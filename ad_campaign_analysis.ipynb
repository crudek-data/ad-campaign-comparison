{
 "cells": [
  {
   "cell_type": "markdown",
   "metadata": {},
   "source": [
    "# Advertisement Campaign Analysis"
   ]
  },
  {
   "cell_type": "code",
   "execution_count": 2,
   "metadata": {},
   "outputs": [],
   "source": [
    "# packages\n",
    "import pandas as pd\n",
    "import os\n",
    "from dotenv import load_dotenv\n",
    "from google.cloud import bigquery"
   ]
  },
  {
   "cell_type": "markdown",
   "metadata": {},
   "source": [
    "### Step 1: Data Wrangling\n",
    "\n",
    "Within our query, we perform the following preprocessing steps:\n",
    "1. Restructure our data by unioning two tables\n",
    "2. Clean up the date data type\n",
    "3. Handle nulls with interpolation\n",
    "4. Enrich the dataset with calculations"
   ]
  },
  {
   "cell_type": "code",
   "execution_count": null,
   "metadata": {},
   "outputs": [],
   "source": [
    "# retreive data from bigquery\n",
    "\n",
    "load_dotenv()\n",
    "GOOGLE_APPLICATION_CREDENTIALS = os.getenv('GOOGLE_APPLICATION_CREDENTIALS')\n",
    "\n",
    "# Initialize the BigQuery Client\n",
    "client = bigquery.Client()\n",
    "\n",
    "# BQ query\n",
    "sql_query = \"\"\"\n",
    "        WITH \n",
    "            campaign_union AS (\n",
    "                -- combine our control and test data sets\n",
    "                SELECT \n",
    "                    * \n",
    "                FROM `crudek-data.practice_data.campaign_cntrl`\n",
    "                UNION ALL\n",
    "                SELECT \n",
    "                    * \n",
    "                FROM`crudek-data.practice_data.campaign_test`\n",
    "            ),\n",
    "            campaign_clean AS (\n",
    "                SELECT \n",
    "                    campaign_name,\n",
    "                    -- format as a date\n",
    "                    PARSE_DATE('%d.%m.%Y', date) AS date,\n",
    "                    spend_usd,\n",
    "                    -- handle missing data with linear interpolation (could also remove, impute, etc.)\n",
    "                    COALESCE(impressions, (LAG(impressions) OVER (ORDER BY campaign_name, date) + LEAD(impressions) OVER (ORDER BY campaign_name, date)) / 2) AS impressions,\n",
    "                    COALESCE(reach, (LAG(reach) OVER (ORDER BY campaign_name, date) + LEAD(reach) OVER (ORDER BY campaign_name, date)) / 2) AS reach,\n",
    "                    COALESCE(website_clicks, (LAG(website_clicks) OVER (ORDER BY campaign_name, date) + LEAD(website_clicks) OVER (ORDER BY campaign_name, date)) / 2) AS website_clicks,\n",
    "                    COALESCE(searches, (LAG(searches) OVER (ORDER BY campaign_name, date) + LEAD(searches) OVER (ORDER BY campaign_name, date)) / 2) AS searches,\n",
    "                    COALESCE(content_views, (LAG(content_views) OVER (ORDER BY campaign_name, date) + LEAD(content_views) OVER (ORDER BY campaign_name, date)) / 2) AS content_views,\n",
    "                    COALESCE(add_to_cart, (LAG(add_to_cart) OVER (ORDER BY campaign_name, date) + LEAD(add_to_cart) OVER (ORDER BY campaign_name, date)) / 2) AS add_to_cart,\n",
    "                    COALESCE(purchases, (LAG(purchases) OVER (ORDER BY campaign_name, date) + LEAD(purchases) OVER (ORDER BY campaign_name, date)) / 2) AS purchases\n",
    "                FROM campaign_union\n",
    "                ORDER BY campaign_name, date\n",
    "            ),\n",
    "            campaign_calcs AS (\n",
    "                SELECT\n",
    "                    campaign_name,\n",
    "                    date,\n",
    "                    (purchases / website_clicks) AS conversion_rate,\n",
    "                    (website_clicks / impressions) AS click_through_rate, -- CTR\n",
    "                    (spend_usd / website_clicks) AS cost_per_click, -- CPC\n",
    "                    (spend_usd / purchases) AS customer_acq_cost -- CAC   \n",
    "                FROM campaign_clean\n",
    "            )\n",
    "        SELECT *\n",
    "        FROM campaign_calcs\n",
    "        ORDER BY campaign_name, date\n",
    "\"\"\"\n",
    "\n",
    "query_job = client.query(\n",
    "    sql_query)\n",
    "\n",
    "# retreive and convert the result to a Pandas DataFrame\n",
    "df = query_job.to_dataframe()"
   ]
  },
  {
   "cell_type": "code",
   "execution_count": 10,
   "metadata": {},
   "outputs": [
    {
     "name": "stdout",
     "output_type": "stream",
     "text": [
      "      campaign_name        date  conversion_rate  click_through_rate  \\\n",
      "0  Control Campaign  2019-08-01         0.088084            0.084835   \n",
      "1  Control Campaign  2019-08-02         0.063009            0.067003   \n",
      "2  Control Campaign  2019-08-03         0.057160            0.049411   \n",
      "3  Control Campaign  2019-08-04         0.110930            0.042057   \n",
      "4  Control Campaign  2019-08-05         0.155646            0.038982   \n",
      "\n",
      "   cost_per_click  customer_acq_cost  \n",
      "0        0.324971           3.689320  \n",
      "1        0.216646           3.438356  \n",
      "2        0.360018           6.298387  \n",
      "3        0.632953           5.705882  \n",
      "4        0.517412           3.324275  \n",
      "    campaign_name        date  conversion_rate  click_through_rate  \\\n",
      "55  Test Campaign  2019-08-26         0.074346            0.047253   \n",
      "56  Test Campaign  2019-08-27         0.119814            0.057729   \n",
      "57  Test Campaign  2019-08-28         0.088531            0.149084   \n",
      "58  Test Campaign  2019-08-29         0.088485            0.113442   \n",
      "59  Test Campaign  2019-08-30         0.130030            0.036596   \n",
      "\n",
      "    cost_per_click  customer_acq_cost  \n",
      "55        0.604974           8.137324  \n",
      "56        0.452991           3.780804  \n",
      "57        0.275909           3.116505  \n",
      "58        0.366619           4.143279  \n",
      "59        0.449420           3.456294  \n"
     ]
    }
   ],
   "source": [
    "print(df.head())\n",
    "print(df.tail())"
   ]
  }
 ],
 "metadata": {
  "kernelspec": {
   "display_name": "venv_analytics",
   "language": "python",
   "name": "python3"
  },
  "language_info": {
   "codemirror_mode": {
    "name": "ipython",
    "version": 3
   },
   "file_extension": ".py",
   "mimetype": "text/x-python",
   "name": "python",
   "nbconvert_exporter": "python",
   "pygments_lexer": "ipython3",
   "version": "3.9.13"
  }
 },
 "nbformat": 4,
 "nbformat_minor": 2
}
